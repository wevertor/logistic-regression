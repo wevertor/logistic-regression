{
  "nbformat": 4,
  "nbformat_minor": 0,
  "metadata": {
    "colab": {
      "name": "TrabalhoIA.ipynb",
      "provenance": [],
      "collapsed_sections": [],
      "toc_visible": true,
      "include_colab_link": true
    },
    "kernelspec": {
      "name": "python3",
      "display_name": "Python 3"
    }
  },
  "cells": [
    {
      "cell_type": "markdown",
      "metadata": {
        "id": "view-in-github",
        "colab_type": "text"
      },
      "source": [
        "<a href=\"https://colab.research.google.com/github/wevertor/logistic-regression/blob/main/TrabalhoIA.ipynb\" target=\"_parent\"><img src=\"https://colab.research.google.com/assets/colab-badge.svg\" alt=\"Open In Colab\"/></a>"
      ]
    },
    {
      "cell_type": "markdown",
      "metadata": {
        "id": "v01LwNtX__Xl"
      },
      "source": [
        "# Monta o Google Drive"
      ]
    },
    {
      "cell_type": "code",
      "metadata": {
        "colab": {
          "base_uri": "https://localhost:8080/"
        },
        "id": "uTrSTbcu7mqr",
        "outputId": "04ed59a3-f781-47e7-a4a3-75e9f843302a"
      },
      "source": [
        "from google.colab import drive\n",
        "drive.mount(\"/content/drive/\")"
      ],
      "execution_count": null,
      "outputs": [
        {
          "output_type": "stream",
          "text": [
            "Mounted at /content/drive/\n"
          ],
          "name": "stdout"
        }
      ]
    },
    {
      "cell_type": "markdown",
      "metadata": {
        "id": "yZ5mNZ1pAIEo"
      },
      "source": [
        "# Carrega a base"
      ]
    },
    {
      "cell_type": "code",
      "metadata": {
        "id": "VWPHdTFL_RHP",
        "colab": {
          "base_uri": "https://localhost:8080/"
        },
        "outputId": "4f908254-c897-40ba-a60a-b67ed7c11615"
      },
      "source": [
        "import pandas as pd\n",
        "\n",
        "data = pd.read_csv(\"drive/My Drive/UFMA/jogadores.csv\", sep=\";\")\n",
        "\n",
        "X = data.values[:, 1:-1]\n",
        "print(X.shape)\n",
        "y = data.values[:, -1]"
      ],
      "execution_count": null,
      "outputs": [
        {
          "output_type": "stream",
          "text": [
            "(120, 8)\n"
          ],
          "name": "stdout"
        }
      ]
    },
    {
      "cell_type": "markdown",
      "metadata": {
        "id": "OGZZey_IIMPb"
      },
      "source": [
        ""
      ]
    },
    {
      "cell_type": "code",
      "metadata": {
        "colab": {
          "base_uri": "https://localhost:8080/"
        },
        "id": "CHc3ClM1ILc-",
        "outputId": "56fd4e5a-1d0c-42b9-b655-726a950ae4b0"
      },
      "source": [
        "from sklearn.model_selection import train_test_split\n",
        "from sklearn.linear_model import LogisticRegression\n",
        "from sklearn.metrics import classification_report\n",
        "import random\n",
        "\n",
        "#separa em treino e teste\n",
        "X_train, X_test, y_train, y_test = train_test_split(X, y, test_size=0.30, random_state=random.randint(1, 1000))\n",
        "\n",
        "#treina o classificador\n",
        "classifier = LogisticRegression(max_iter=1000).fit(X_train, y_train)\n",
        "\n",
        "#faz o predict da base de teste\n",
        "y_pred = classifier.predict(X_test)\n",
        "\n",
        "#printa o resultado\n",
        "print(classification_report(y_test, y_pred))"
      ],
      "execution_count": null,
      "outputs": [
        {
          "output_type": "stream",
          "text": [
            "              precision    recall  f1-score   support\n",
            "\n",
            "    Atacante       1.00      1.00      1.00        16\n",
            "    Defensor       1.00      1.00      1.00        20\n",
            "\n",
            "    accuracy                           1.00        36\n",
            "   macro avg       1.00      1.00      1.00        36\n",
            "weighted avg       1.00      1.00      1.00        36\n",
            "\n"
          ],
          "name": "stdout"
        }
      ]
    },
    {
      "cell_type": "code",
      "metadata": {
        "id": "Pmg33kmNLpap",
        "colab": {
          "base_uri": "https://localhost:8080/"
        },
        "outputId": "217a5ee7-dfe3-424e-eb37-d1b26ef5b69a"
      },
      "source": [
        "import numpy as np\r\n",
        "\r\n",
        "dataVal = pd.read_csv(\"drive/My Drive/UFMA/validacao.csv\", sep=\";\")\r\n",
        "\r\n",
        "X_val = dataVal.values[:, 1:]\r\n",
        "\r\n",
        "y_val_pred = classifier.predict(X_val)\r\n",
        "\r\n",
        "lista = []\r\n",
        "for pred, jogador in zip(X_val, y_val_pred):\r\n",
        "    lista.append(np.concatenate((pred, [jogador])))\r\n",
        "\r\n",
        "validacao = np.array(lista)\r\n",
        "print(validacao)\r\n",
        "pd.DataFrame(data=validacao).to_csv(\"drive/My Drive/UFMA/resultado.csv\")"
      ],
      "execution_count": null,
      "outputs": [
        {
          "output_type": "stream",
          "text": [
            "[['19' '186' '71' '67' '52' '77' '75' '65' 'Defensor']\n",
            " ['19' '175' '65' '63' '66' '60' '82' '70' 'Atacante']\n",
            " ['20' '181' '64' '64' '67' '70' '67' '68' 'Atacante']\n",
            " ['20' '170' '69' '66' '70' '62' '76' '75' 'Atacante']\n",
            " ['21' '176' '66' '61' '68' '65' '75' '72' 'Atacante']\n",
            " ['22' '171' '64' '65' '66' '60' '78' '71' 'Atacante']\n",
            " ['22' '176' '70' '72' '70' '64' '77' '77' 'Atacante']\n",
            " ['22' '188' '72' '69' '50' '76' '75' '65' 'Defensor']\n",
            " ['22' '180' '68' '74' '67' '71' '72' '71' 'Atacante']\n",
            " ['22' '177' '67' '68' '69' '65' '77' '73' 'Atacante']\n",
            " ['23' '185' '77' '79' '65' '79' '75' '79' 'Defensor']\n",
            " ['23' '178' '66' '68' '65' '65' '80' '76' 'Atacante']\n",
            " ['23' '180' '68' '65' '51' '77' '71' '61' 'Defensor']\n",
            " ['23' '170' '68' '66' '68' '62' '75' '74' 'Atacante']\n",
            " ['24' '182' '79' '73' '58' '77' '77' '65' 'Defensor']\n",
            " ['24' '178' '62' '68' '46' '70' '65' '63' 'Defensor']\n",
            " ['24' '189' '65' '65' '55' '70' '69' '58' 'Defensor']\n",
            " ['25' '181' '72' '67' '58' '77' '81' '73' 'Defensor']\n",
            " ['25' '185' '69' '65' '58' '75' '72' '68' 'Defensor']\n",
            " ['25' '178' '70' '67' '63' '66' '83' '77' 'Atacante']\n",
            " ['26' '174' '67' '64' '65' '66' '82' '70' 'Atacante']\n",
            " ['26' '169' '78' '78' '73' '67' '83' '80' 'Atacante']\n",
            " ['27' '190' '70' '64' '58' '81' '74' '60' 'Defensor']\n",
            " ['27' '183' '70' '66' '55' '81' '67' '65' 'Defensor']\n",
            " ['27' '184' '78' '68' '76' '68' '92' '83' 'Atacante']\n",
            " ['28' '178' '72' '64' '79' '74' '73' '69' 'Atacante']\n",
            " ['31' '189' '70' '66' '59' '84' '71' '63' 'Defensor']\n",
            " ['33' '187' '71' '63' '55' '82' '73' '64' 'Defensor']\n",
            " ['37' '188' '72' '63' '54' '84' '70' '60' 'Defensor']\n",
            " ['37' '182' '72' '65' '59' '84' '67' '63' 'Defensor']]\n"
          ],
          "name": "stdout"
        }
      ]
    }
  ]
}